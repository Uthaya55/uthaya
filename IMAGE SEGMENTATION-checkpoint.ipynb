{
 "cells": [
  {
   "cell_type": "code",
   "execution_count": 1,
   "id": "70d7e681",
   "metadata": {},
   "outputs": [],
   "source": [
    "import cv2  \n",
    "import numpy as np"
   ]
  },
  {
   "cell_type": "markdown",
   "id": "43536f1e",
   "metadata": {},
   "source": [
    "# REGION OF INTERSERT"
   ]
  },
  {
   "cell_type": "code",
   "execution_count": 2,
   "id": "97cf4c8a",
   "metadata": {},
   "outputs": [],
   "source": [
    "image=cv2.imread('noise.jpeg')\n",
    "image=cv2.resize(image,(512,512))"
   ]
  },
  {
   "cell_type": "code",
   "execution_count": null,
   "id": "e81ba5ac",
   "metadata": {},
   "outputs": [],
   "source": [
    "r=cv2.selectROI('select the area',image)\n",
    "cropped_image=image[int(r[1]):int(r[1]+r[3]),int(r[0]):int(r[0]+r[2])]\n",
    "cv2.imshow('cropped image',cropped_image)\n",
    "cv2.waitKey(0)"
   ]
  },
  {
   "cell_type": "code",
   "execution_count": null,
   "id": "89fd68b1",
   "metadata": {},
   "outputs": [],
   "source": []
  },
  {
   "cell_type": "code",
   "execution_count": null,
   "id": "c83b20a6",
   "metadata": {},
   "outputs": [],
   "source": []
  }
 ],
 "metadata": {
  "kernelspec": {
   "display_name": "Python 3 (ipykernel)",
   "language": "python",
   "name": "python3"
  },
  "language_info": {
   "codemirror_mode": {
    "name": "ipython",
    "version": 3
   },
   "file_extension": ".py",
   "mimetype": "text/x-python",
   "name": "python",
   "nbconvert_exporter": "python",
   "pygments_lexer": "ipython3",
   "version": "3.9.13"
  }
 },
 "nbformat": 4,
 "nbformat_minor": 5
}
