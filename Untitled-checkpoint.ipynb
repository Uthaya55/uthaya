{
 "cells": [
  {
   "cell_type": "markdown",
   "id": "483d846a",
   "metadata": {},
   "source": [
    "# color blending"
   ]
  },
  {
   "cell_type": "code",
   "execution_count": 1,
   "id": "bdbdc243",
   "metadata": {},
   "outputs": [],
   "source": [
    "import cv2\n",
    "import numpy"
   ]
  },
  {
   "cell_type": "code",
   "execution_count": 2,
   "id": "c4826572",
   "metadata": {},
   "outputs": [],
   "source": [
    "im1=cv2.imread(\"C:/Users/SN137/Pictures/p1.png\")"
   ]
  },
  {
   "cell_type": "code",
   "execution_count": 3,
   "id": "b3a204ce",
   "metadata": {},
   "outputs": [
    {
     "data": {
      "text/plain": [
       "array([[[231, 191, 200],\n",
       "        [231, 191, 200],\n",
       "        [231, 191, 200],\n",
       "        ...,\n",
       "        [231, 191, 200],\n",
       "        [231, 191, 200],\n",
       "        [231, 191, 200]],\n",
       "\n",
       "       [[231, 191, 200],\n",
       "        [231, 191, 200],\n",
       "        [231, 191, 200],\n",
       "        ...,\n",
       "        [231, 191, 200],\n",
       "        [231, 191, 200],\n",
       "        [231, 191, 200]],\n",
       "\n",
       "       [[231, 191, 200],\n",
       "        [231, 191, 200],\n",
       "        [231, 191, 200],\n",
       "        ...,\n",
       "        [231, 191, 200],\n",
       "        [231, 191, 200],\n",
       "        [231, 191, 200]],\n",
       "\n",
       "       ...,\n",
       "\n",
       "       [[231, 191, 200],\n",
       "        [231, 191, 200],\n",
       "        [231, 191, 200],\n",
       "        ...,\n",
       "        [231, 191, 200],\n",
       "        [231, 191, 200],\n",
       "        [231, 191, 200]],\n",
       "\n",
       "       [[231, 191, 200],\n",
       "        [231, 191, 200],\n",
       "        [231, 191, 200],\n",
       "        ...,\n",
       "        [231, 191, 200],\n",
       "        [231, 191, 200],\n",
       "        [231, 191, 200]],\n",
       "\n",
       "       [[231, 191, 200],\n",
       "        [231, 191, 200],\n",
       "        [231, 191, 200],\n",
       "        ...,\n",
       "        [231, 191, 200],\n",
       "        [231, 191, 200],\n",
       "        [231, 191, 200]]], dtype=uint8)"
      ]
     },
     "execution_count": 3,
     "metadata": {},
     "output_type": "execute_result"
    }
   ],
   "source": [
    "im1"
   ]
  },
  {
   "cell_type": "code",
   "execution_count": 4,
   "id": "9053f1b5",
   "metadata": {},
   "outputs": [],
   "source": [
    "im2=cv2.imread(\"C:/Users/SN137/Pictures/p2.png\")"
   ]
  },
  {
   "cell_type": "code",
   "execution_count": 5,
   "id": "3d68bde7",
   "metadata": {},
   "outputs": [
    {
     "data": {
      "text/plain": [
       "array([[[234, 217, 153],\n",
       "        [234, 217, 153],\n",
       "        [234, 217, 153],\n",
       "        ...,\n",
       "        [234, 217, 153],\n",
       "        [234, 217, 153],\n",
       "        [234, 217, 153]],\n",
       "\n",
       "       [[234, 217, 153],\n",
       "        [234, 217, 153],\n",
       "        [234, 217, 153],\n",
       "        ...,\n",
       "        [234, 217, 153],\n",
       "        [234, 217, 153],\n",
       "        [234, 217, 153]],\n",
       "\n",
       "       [[234, 217, 153],\n",
       "        [234, 217, 153],\n",
       "        [234, 217, 153],\n",
       "        ...,\n",
       "        [234, 217, 153],\n",
       "        [234, 217, 153],\n",
       "        [234, 217, 153]],\n",
       "\n",
       "       ...,\n",
       "\n",
       "       [[234, 217, 153],\n",
       "        [234, 217, 153],\n",
       "        [234, 217, 153],\n",
       "        ...,\n",
       "        [234, 217, 153],\n",
       "        [234, 217, 153],\n",
       "        [234, 217, 153]],\n",
       "\n",
       "       [[234, 217, 153],\n",
       "        [234, 217, 153],\n",
       "        [234, 217, 153],\n",
       "        ...,\n",
       "        [234, 217, 153],\n",
       "        [234, 217, 153],\n",
       "        [234, 217, 153]],\n",
       "\n",
       "       [[234, 217, 153],\n",
       "        [234, 217, 153],\n",
       "        [234, 217, 153],\n",
       "        ...,\n",
       "        [234, 217, 153],\n",
       "        [234, 217, 153],\n",
       "        [234, 217, 153]]], dtype=uint8)"
      ]
     },
     "execution_count": 5,
     "metadata": {},
     "output_type": "execute_result"
    }
   ],
   "source": [
    "im2"
   ]
  },
  {
   "cell_type": "code",
   "execution_count": null,
   "id": "629d5a18",
   "metadata": {},
   "outputs": [],
   "source": [
    "cv2.imshow(\"img1\",im1)\n",
    "cv2.imshow(\"img2\",im2)\n",
    "cv2.waitKey(0)\n",
    "cv2.destroyAllWindows()"
   ]
  },
  {
   "cell_type": "code",
   "execution_count": null,
   "id": "fa086de3",
   "metadata": {},
   "outputs": [],
   "source": [
    "blend=cv2.addWeighted(im1,0.5,im2,0.5,0)"
   ]
  },
  {
   "cell_type": "code",
   "execution_count": null,
   "id": "4b658eb6",
   "metadata": {},
   "outputs": [],
   "source": [
    "cv2.imshow(\"blended img\",blend)\n",
    "cv2.waitkey(0)\n",
    "cv2.destroyAllWindos()"
   ]
  },
  {
   "cell_type": "code",
   "execution_count": null,
   "id": "7c80e46c",
   "metadata": {},
   "outputs": [],
   "source": [
    "sub=cv2.subtract(im1,im2)"
   ]
  },
  {
   "cell_type": "code",
   "execution_count": null,
   "id": "7ff4e196",
   "metadata": {},
   "outputs": [],
   "source": [
    "cv2.imshow(\"sub\",sub)\n",
    "cv2.waitKey(0)\n",
    "cv2.destroyAllWindows()"
   ]
  },
  {
   "cell_type": "code",
   "execution_count": null,
   "id": "cb758398",
   "metadata": {},
   "outputs": [],
   "source": [
    "And=cv2.bitwise_and(im1,im2)\n"
   ]
  },
  {
   "cell_type": "code",
   "execution_count": null,
   "id": "f7637f38",
   "metadata": {},
   "outputs": [],
   "source": []
  }
 ],
 "metadata": {
  "kernelspec": {
   "display_name": "Python 3 (ipykernel)",
   "language": "python",
   "name": "python3"
  },
  "language_info": {
   "codemirror_mode": {
    "name": "ipython",
    "version": 3
   },
   "file_extension": ".py",
   "mimetype": "text/x-python",
   "name": "python",
   "nbconvert_exporter": "python",
   "pygments_lexer": "ipython3",
   "version": "3.9.13"
  }
 },
 "nbformat": 4,
 "nbformat_minor": 5
}
