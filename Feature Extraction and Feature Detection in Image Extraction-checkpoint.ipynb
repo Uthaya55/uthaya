{
 "cells": [
  {
   "cell_type": "code",
   "execution_count": 1,
   "id": "346bd181",
   "metadata": {},
   "outputs": [],
   "source": [
    "import cv2"
   ]
  },
  {
   "cell_type": "code",
   "execution_count": 4,
   "id": "aad29995",
   "metadata": {},
   "outputs": [],
   "source": [
    "image=cv2.imread(\"car.jpeg\",0)"
   ]
  },
  {
   "cell_type": "markdown",
   "id": "7e2227d8",
   "metadata": {},
   "source": [
    "# Canny Edge"
   ]
  },
  {
   "cell_type": "code",
   "execution_count": 5,
   "id": "60b864e9",
   "metadata": {},
   "outputs": [],
   "source": [
    "canny=cv2.Canny(image,40,200)"
   ]
  },
  {
   "cell_type": "code",
   "execution_count": 8,
   "id": "51960db5",
   "metadata": {},
   "outputs": [],
   "source": [
    "cv2.imshow('ORG',image)\n",
    "cv2.imshow('CAN',canny)\n",
    "cv2.waitKey(0)\n",
    "cv2.destroyAllWindows()"
   ]
  },
  {
   "cell_type": "code",
   "execution_count": null,
   "id": "b1477371",
   "metadata": {},
   "outputs": [],
   "source": []
  }
 ],
 "metadata": {
  "kernelspec": {
   "display_name": "Python 3 (ipykernel)",
   "language": "python",
   "name": "python3"
  },
  "language_info": {
   "codemirror_mode": {
    "name": "ipython",
    "version": 3
   },
   "file_extension": ".py",
   "mimetype": "text/x-python",
   "name": "python",
   "nbconvert_exporter": "python",
   "pygments_lexer": "ipython3",
   "version": "3.9.13"
  }
 },
 "nbformat": 4,
 "nbformat_minor": 5
}
