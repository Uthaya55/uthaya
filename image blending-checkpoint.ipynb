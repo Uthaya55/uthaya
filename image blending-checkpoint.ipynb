{
 "cells": [
  {
   "cell_type": "markdown",
   "id": "f00e885f",
   "metadata": {},
   "source": [
    "# image blending"
   ]
  },
  {
   "cell_type": "code",
   "execution_count": null,
   "id": "0d06216e",
   "metadata": {},
   "outputs": [],
   "source": [
    "import cv2\n",
    "import numpy"
   ]
  },
  {
   "cell_type": "code",
   "execution_count": null,
   "id": "e9b22c03",
   "metadata": {},
   "outputs": [],
   "source": [
    "im1=cv2.imread(\"C:/Users/SN137/Pictures/blue.png\")"
   ]
  },
  {
   "cell_type": "code",
   "execution_count": null,
   "id": "2cccb09c",
   "metadata": {},
   "outputs": [],
   "source": [
    "im1"
   ]
  },
  {
   "cell_type": "code",
   "execution_count": null,
   "id": "6f3a15b3",
   "metadata": {},
   "outputs": [],
   "source": [
    "im2=cv2.imread(\"C:/Users/SN137/Pictures/bink.png\")"
   ]
  },
  {
   "cell_type": "code",
   "execution_count": null,
   "id": "2ba19df7",
   "metadata": {},
   "outputs": [],
   "source": [
    "im2"
   ]
  },
  {
   "cell_type": "code",
   "execution_count": null,
   "id": "9308e216",
   "metadata": {},
   "outputs": [],
   "source": [
    "cv2.imshow(\"img\",im1)\n",
    "cv2.imshow(\"img2\",im2)\n",
    "cv2.waitKey(0)\n",
    "cv2.destroyAllwindows()"
   ]
  },
  {
   "cell_type": "markdown",
   "id": "efebb092",
   "metadata": {},
   "source": [
    "# blending"
   ]
  },
  {
   "cell_type": "code",
   "execution_count": null,
   "id": "0a97b345",
   "metadata": {},
   "outputs": [],
   "source": [
    "blend=cv2.addWeighted(im1,0.5,im2,0.5,0)"
   ]
  },
  {
   "cell_type": "code",
   "execution_count": null,
   "id": "91936b3a",
   "metadata": {},
   "outputs": [],
   "source": [
    "cv2.imshow(\"blend\",blend)\n",
    "cv2.imshow(\"img1\",im1)\n",
    "cv2.imshow(\"img2\",im2)\n",
    "cv2.waitKey(0)\n",
    "cv2.destroyAllwindows()"
   ]
  },
  {
   "cell_type": "code",
   "execution_count": null,
   "id": "864c7e46",
   "metadata": {},
   "outputs": [],
   "source": [
    "import numpy as np"
   ]
  },
  {
   "cell_type": "markdown",
   "id": "b63b8e68",
   "metadata": {},
   "source": [
    "# color blending"
   ]
  },
  {
   "cell_type": "code",
   "execution_count": 1,
   "id": "98cd6787",
   "metadata": {},
   "outputs": [],
   "source": [
    "import cv2\n",
    "import numpy"
   ]
  },
  {
   "cell_type": "code",
   "execution_count": 2,
   "id": "437cae36",
   "metadata": {},
   "outputs": [],
   "source": [
    "im1=cv2.imread(\"C:/Users/SN137Pictures.png\")"
   ]
  },
  {
   "cell_type": "code",
   "execution_count": null,
   "id": "3a8d6815",
   "metadata": {},
   "outputs": [],
   "source": [
    "im2=cv2.imread(\"C:/Users/SN137/Pictures.png\")"
   ]
  },
  {
   "cell_type": "code",
   "execution_count": null,
   "id": "598e416c",
   "metadata": {},
   "outputs": [],
   "source": [
    "cv2.imshow(\"img\",im1)\n",
    "cv2.imshow(\"img2\",im2)\n",
    "cv2.waitKey(0)\n",
    "cv2.destroyAllwindows()"
   ]
  },
  {
   "cell_type": "code",
   "execution_count": null,
   "id": "17d29681",
   "metadata": {},
   "outputs": [],
   "source": [
    "blend=cv2.addweighted(im1,0.5,im2,0.5,0)"
   ]
  },
  {
   "cell_type": "code",
   "execution_count": null,
   "id": "a21ca0d8",
   "metadata": {},
   "outputs": [],
   "source": [
    "cv2.imshow(\"blended img\",blend)\n",
    "cv2.waitkey(0)\n",
    "cv2.destroyAllWindos()"
   ]
  },
  {
   "cell_type": "code",
   "execution_count": null,
   "id": "1f1baab5",
   "metadata": {},
   "outputs": [],
   "source": [
    "sub=cv2.subract(im1,im2)"
   ]
  },
  {
   "cell_type": "code",
   "execution_count": null,
   "id": "f0203632",
   "metadata": {},
   "outputs": [],
   "source": [
    "cv2.imshow(\"sub\",sub)\n",
    "cv2.waitKey(0)\n",
    "cv2.destroyAllWindows()\n",
    "\n"
   ]
  },
  {
   "cell_type": "code",
   "execution_count": null,
   "id": "79057a24",
   "metadata": {},
   "outputs": [],
   "source": [
    "And=cv2.bitwise_and(im1,im2)\n"
   ]
  },
  {
   "cell_type": "code",
   "execution_count": null,
   "id": "3dff8a4a",
   "metadata": {},
   "outputs": [],
   "source": []
  },
  {
   "cell_type": "code",
   "execution_count": null,
   "id": "cf3417ca",
   "metadata": {},
   "outputs": [],
   "source": []
  }
 ],
 "metadata": {
  "kernelspec": {
   "display_name": "Python 3 (ipykernel)",
   "language": "python",
   "name": "python3"
  },
  "language_info": {
   "codemirror_mode": {
    "name": "ipython",
    "version": 3
   },
   "file_extension": ".py",
   "mimetype": "text/x-python",
   "name": "python",
   "nbconvert_exporter": "python",
   "pygments_lexer": "ipython3",
   "version": "3.9.13"
  }
 },
 "nbformat": 4,
 "nbformat_minor": 5
}
