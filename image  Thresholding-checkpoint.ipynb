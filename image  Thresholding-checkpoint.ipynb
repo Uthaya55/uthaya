{
 "cells": [
  {
   "cell_type": "markdown",
   "id": "8cc42f6a",
   "metadata": {},
   "source": [
    "# image thresholding"
   ]
  },
  {
   "cell_type": "code",
   "execution_count": 1,
   "id": "294b5dcc",
   "metadata": {},
   "outputs": [],
   "source": [
    "import cv2\n",
    "import numpy"
   ]
  },
  {
   "cell_type": "code",
   "execution_count": 2,
   "id": "f071d708",
   "metadata": {},
   "outputs": [],
   "source": [
    "im1=cv2.imread(\"tree.jpg\",0)"
   ]
  },
  {
   "cell_type": "code",
   "execution_count": null,
   "id": "498212aa",
   "metadata": {},
   "outputs": [],
   "source": [
    "cv2.imshow(\"im1\",im1)\n",
    "cv2.waitKey(0)\n",
    "cv2.destroyAllWindows()"
   ]
  },
  {
   "cell_type": "code",
   "execution_count": null,
   "id": "52c9db48",
   "metadata": {},
   "outputs": [],
   "source": [
    "im1"
   ]
  },
  {
   "cell_type": "code",
   "execution_count": null,
   "id": "6b3d9157",
   "metadata": {},
   "outputs": [],
   "source": [
    "ret,thres=cv2.threshold(im1,83,100,cv.THRESH_BINARY)"
   ]
  },
  {
   "cell_type": "code",
   "execution_count": null,
   "id": "78dae44b",
   "metadata": {},
   "outputs": [],
   "source": [
    "cv2.ishow(\"im1\",im1)\n",
    "cv2.waitKey(0)\n",
    "cv2.destroyAllwindows()"
   ]
  },
  {
   "cell_type": "code",
   "execution_count": null,
   "id": "9291f3df",
   "metadata": {},
   "outputs": [],
   "source": [
    "ret,thres1=cv2.threshold(im1,253,200,cv2.THRESH_BINARY)\n",
    "ret,thres2=cv2.threshold(im1,253,200,cv2.THRESH_BINARY_INV)\n",
    "ret,thres3=cv2.threshold(im1,253,200,cv2.THRESH_TRUNC)\n",
    "ret,thres4=cv2.threshold(im1,253,200,cv2.THRESH_TOZERO)\n",
    "ret,thres5=cv2.threshold(im1,253,200,cv2.THRESH_TOZERO_INV)"
   ]
  },
  {
   "cell_type": "code",
   "execution_count": null,
   "id": "f7504980",
   "metadata": {},
   "outputs": [],
   "source": [
    "CV2.IM"
   ]
  },
  {
   "cell_type": "markdown",
   "id": "2b9789d5",
   "metadata": {},
   "source": []
  }
 ],
 "metadata": {
  "kernelspec": {
   "display_name": "Python 3 (ipykernel)",
   "language": "python",
   "name": "python3"
  },
  "language_info": {
   "codemirror_mode": {
    "name": "ipython",
    "version": 3
   },
   "file_extension": ".py",
   "mimetype": "text/x-python",
   "name": "python",
   "nbconvert_exporter": "python",
   "pygments_lexer": "ipython3",
   "version": "3.9.13"
  }
 },
 "nbformat": 4,
 "nbformat_minor": 5
}
